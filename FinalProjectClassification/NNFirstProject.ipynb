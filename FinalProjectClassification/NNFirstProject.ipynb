{
  "nbformat": 4,
  "nbformat_minor": 0,
  "metadata": {
    "colab": {
      "name": "NNFirstProject.ipynb",
      "provenance": [],
      "collapsed_sections": []
    },
    "kernelspec": {
      "name": "python3",
      "display_name": "Python 3"
    },
    "language_info": {
      "name": "python"
    },
    "accelerator": "GPU"
  },
  "cells": [
    {
      "cell_type": "code",
      "source": [
        "import pandas as pd\n",
        "import numpy as np\n",
        "import matplotlib.pyplot as plt\n",
        "import seaborn as sns\n",
        "import sys\n",
        "#np.set_printoptions(threshold=sys.maxsize)"
      ],
      "metadata": {
        "id": "AL-iht27c6SF"
      },
      "execution_count": null,
      "outputs": []
    },
    {
      "cell_type": "code",
      "source": [
        "data =  pd.read_csv('/content/drive/MyDrive/csh111.ann.features.csv')"
      ],
      "metadata": {
        "id": "yS1yYaolal96"
      },
      "execution_count": null,
      "outputs": []
    },
    {
      "cell_type": "code",
      "source": [
        "data"
      ],
      "metadata": {
        "id": "Uvy2Wt-PaoPq",
        "colab": {
          "base_uri": "https://localhost:8080/",
          "height": 504
        },
        "outputId": "acea1a7c-5b79-4b13-8bc3-c26381080945"
      },
      "execution_count": null,
      "outputs": [
        {
          "output_type": "execute_result",
          "data": {
            "text/html": [
              "\n",
              "  <div id=\"df-b14cfaab-e6ab-4839-b059-2be029587505\">\n",
              "    <div class=\"colab-df-container\">\n",
              "      <div>\n",
              "<style scoped>\n",
              "    .dataframe tbody tr th:only-of-type {\n",
              "        vertical-align: middle;\n",
              "    }\n",
              "\n",
              "    .dataframe tbody tr th {\n",
              "        vertical-align: top;\n",
              "    }\n",
              "\n",
              "    .dataframe thead th {\n",
              "        text-align: right;\n",
              "    }\n",
              "</style>\n",
              "<table border=\"1\" class=\"dataframe\">\n",
              "  <thead>\n",
              "    <tr style=\"text-align: right;\">\n",
              "      <th></th>\n",
              "      <th>lastSensorEventHours</th>\n",
              "      <th>lastSensorEventSeconds</th>\n",
              "      <th>lastSensorDayOfWeek</th>\n",
              "      <th>windowDuration</th>\n",
              "      <th>timeSinceLastSensorEvent</th>\n",
              "      <th>prevDominantSensor1</th>\n",
              "      <th>prevDominantSensor2</th>\n",
              "      <th>lastSensorID</th>\n",
              "      <th>lastSensorLocation</th>\n",
              "      <th>lastMotionLocation</th>\n",
              "      <th>complexity</th>\n",
              "      <th>activityChange</th>\n",
              "      <th>areaTransitions</th>\n",
              "      <th>numDistinctSensors</th>\n",
              "      <th>sensorCount-Bathroom</th>\n",
              "      <th>sensorCount-Bedroom</th>\n",
              "      <th>sensorCount-Chair</th>\n",
              "      <th>sensorCount-DiningRoom</th>\n",
              "      <th>sensorCount-Hall</th>\n",
              "      <th>sensorCount-Ignore</th>\n",
              "      <th>sensorCount-Kitchen</th>\n",
              "      <th>sensorCount-LivingRoom</th>\n",
              "      <th>sensorCount-Office</th>\n",
              "      <th>sensorCount-OutsideDoor</th>\n",
              "      <th>sensorCount-WorkArea</th>\n",
              "      <th>sensorElTime-Bathroom</th>\n",
              "      <th>sensorElTime-Bedroom</th>\n",
              "      <th>sensorElTime-Chair</th>\n",
              "      <th>sensorElTime-DiningRoom</th>\n",
              "      <th>sensorElTime-Hall</th>\n",
              "      <th>sensorElTime-Ignore</th>\n",
              "      <th>sensorElTime-Kitchen</th>\n",
              "      <th>sensorElTime-LivingRoom</th>\n",
              "      <th>sensorElTime-Office</th>\n",
              "      <th>sensorElTime-OutsideDoor</th>\n",
              "      <th>sensorElTime-WorkArea</th>\n",
              "      <th>activity</th>\n",
              "    </tr>\n",
              "  </thead>\n",
              "  <tbody>\n",
              "    <tr>\n",
              "      <th>0</th>\n",
              "      <td>0.0</td>\n",
              "      <td>1258.0</td>\n",
              "      <td>2.0</td>\n",
              "      <td>698.0</td>\n",
              "      <td>1.0</td>\n",
              "      <td>0.0</td>\n",
              "      <td>0.0</td>\n",
              "      <td>1.0</td>\n",
              "      <td>1.0</td>\n",
              "      <td>1.0</td>\n",
              "      <td>0.650022</td>\n",
              "      <td>0.028653</td>\n",
              "      <td>0.0</td>\n",
              "      <td>0.0</td>\n",
              "      <td>0.0</td>\n",
              "      <td>28.62</td>\n",
              "      <td>0.0</td>\n",
              "      <td>0.0</td>\n",
              "      <td>0.0</td>\n",
              "      <td>5.73</td>\n",
              "      <td>0.0</td>\n",
              "      <td>0.0</td>\n",
              "      <td>0.0</td>\n",
              "      <td>0.0</td>\n",
              "      <td>0.0</td>\n",
              "      <td>86400.000000</td>\n",
              "      <td>0.000000</td>\n",
              "      <td>86400.0</td>\n",
              "      <td>86400.0</td>\n",
              "      <td>86400.0</td>\n",
              "      <td>1.571419</td>\n",
              "      <td>86400.000000</td>\n",
              "      <td>86400.000000</td>\n",
              "      <td>86400.0</td>\n",
              "      <td>86400.000000</td>\n",
              "      <td>86400.000000</td>\n",
              "      <td>Sleep</td>\n",
              "    </tr>\n",
              "    <tr>\n",
              "      <th>1</th>\n",
              "      <td>0.0</td>\n",
              "      <td>1260.0</td>\n",
              "      <td>2.0</td>\n",
              "      <td>699.0</td>\n",
              "      <td>2.0</td>\n",
              "      <td>0.0</td>\n",
              "      <td>0.0</td>\n",
              "      <td>1.0</td>\n",
              "      <td>1.0</td>\n",
              "      <td>1.0</td>\n",
              "      <td>0.650022</td>\n",
              "      <td>0.028612</td>\n",
              "      <td>0.0</td>\n",
              "      <td>0.0</td>\n",
              "      <td>0.0</td>\n",
              "      <td>28.57</td>\n",
              "      <td>0.0</td>\n",
              "      <td>0.0</td>\n",
              "      <td>0.0</td>\n",
              "      <td>5.78</td>\n",
              "      <td>0.0</td>\n",
              "      <td>0.0</td>\n",
              "      <td>0.0</td>\n",
              "      <td>0.0</td>\n",
              "      <td>0.0</td>\n",
              "      <td>86400.000000</td>\n",
              "      <td>0.000000</td>\n",
              "      <td>86400.0</td>\n",
              "      <td>86400.0</td>\n",
              "      <td>86400.0</td>\n",
              "      <td>2.852767</td>\n",
              "      <td>86400.000000</td>\n",
              "      <td>86400.000000</td>\n",
              "      <td>86400.0</td>\n",
              "      <td>86400.000000</td>\n",
              "      <td>86400.000000</td>\n",
              "      <td>Sleep</td>\n",
              "    </tr>\n",
              "    <tr>\n",
              "      <th>2</th>\n",
              "      <td>0.0</td>\n",
              "      <td>1282.0</td>\n",
              "      <td>2.0</td>\n",
              "      <td>720.0</td>\n",
              "      <td>22.0</td>\n",
              "      <td>0.0</td>\n",
              "      <td>0.0</td>\n",
              "      <td>1.0</td>\n",
              "      <td>1.0</td>\n",
              "      <td>1.0</td>\n",
              "      <td>0.650022</td>\n",
              "      <td>0.029167</td>\n",
              "      <td>0.0</td>\n",
              "      <td>0.0</td>\n",
              "      <td>0.0</td>\n",
              "      <td>28.52</td>\n",
              "      <td>0.0</td>\n",
              "      <td>0.0</td>\n",
              "      <td>0.0</td>\n",
              "      <td>5.83</td>\n",
              "      <td>0.0</td>\n",
              "      <td>0.0</td>\n",
              "      <td>0.0</td>\n",
              "      <td>0.0</td>\n",
              "      <td>0.0</td>\n",
              "      <td>86400.000000</td>\n",
              "      <td>0.000000</td>\n",
              "      <td>86400.0</td>\n",
              "      <td>86400.0</td>\n",
              "      <td>86400.0</td>\n",
              "      <td>25.571251</td>\n",
              "      <td>86400.000000</td>\n",
              "      <td>86400.000000</td>\n",
              "      <td>86400.0</td>\n",
              "      <td>86400.000000</td>\n",
              "      <td>86400.000000</td>\n",
              "      <td>Sleep</td>\n",
              "    </tr>\n",
              "    <tr>\n",
              "      <th>3</th>\n",
              "      <td>0.0</td>\n",
              "      <td>1283.0</td>\n",
              "      <td>2.0</td>\n",
              "      <td>719.0</td>\n",
              "      <td>1.0</td>\n",
              "      <td>0.0</td>\n",
              "      <td>0.0</td>\n",
              "      <td>1.0</td>\n",
              "      <td>1.0</td>\n",
              "      <td>1.0</td>\n",
              "      <td>0.650022</td>\n",
              "      <td>0.027816</td>\n",
              "      <td>0.0</td>\n",
              "      <td>0.0</td>\n",
              "      <td>0.0</td>\n",
              "      <td>28.47</td>\n",
              "      <td>0.0</td>\n",
              "      <td>0.0</td>\n",
              "      <td>0.0</td>\n",
              "      <td>5.88</td>\n",
              "      <td>0.0</td>\n",
              "      <td>0.0</td>\n",
              "      <td>0.0</td>\n",
              "      <td>0.0</td>\n",
              "      <td>0.0</td>\n",
              "      <td>86400.000000</td>\n",
              "      <td>0.000000</td>\n",
              "      <td>86400.0</td>\n",
              "      <td>86400.0</td>\n",
              "      <td>86400.0</td>\n",
              "      <td>26.665044</td>\n",
              "      <td>86400.000000</td>\n",
              "      <td>86400.000000</td>\n",
              "      <td>86400.0</td>\n",
              "      <td>86400.000000</td>\n",
              "      <td>86400.000000</td>\n",
              "      <td>Sleep</td>\n",
              "    </tr>\n",
              "    <tr>\n",
              "      <th>4</th>\n",
              "      <td>0.0</td>\n",
              "      <td>1329.0</td>\n",
              "      <td>2.0</td>\n",
              "      <td>756.0</td>\n",
              "      <td>46.0</td>\n",
              "      <td>0.0</td>\n",
              "      <td>0.0</td>\n",
              "      <td>1.0</td>\n",
              "      <td>1.0</td>\n",
              "      <td>1.0</td>\n",
              "      <td>0.650022</td>\n",
              "      <td>0.017196</td>\n",
              "      <td>0.0</td>\n",
              "      <td>0.0</td>\n",
              "      <td>0.0</td>\n",
              "      <td>28.42</td>\n",
              "      <td>0.0</td>\n",
              "      <td>0.0</td>\n",
              "      <td>0.0</td>\n",
              "      <td>5.93</td>\n",
              "      <td>0.0</td>\n",
              "      <td>0.0</td>\n",
              "      <td>0.0</td>\n",
              "      <td>0.0</td>\n",
              "      <td>0.0</td>\n",
              "      <td>86400.000000</td>\n",
              "      <td>0.000000</td>\n",
              "      <td>86400.0</td>\n",
              "      <td>86400.0</td>\n",
              "      <td>86400.0</td>\n",
              "      <td>72.605688</td>\n",
              "      <td>86400.000000</td>\n",
              "      <td>86400.000000</td>\n",
              "      <td>86400.0</td>\n",
              "      <td>86400.000000</td>\n",
              "      <td>86400.000000</td>\n",
              "      <td>Sleep</td>\n",
              "    </tr>\n",
              "    <tr>\n",
              "      <th>...</th>\n",
              "      <td>...</td>\n",
              "      <td>...</td>\n",
              "      <td>...</td>\n",
              "      <td>...</td>\n",
              "      <td>...</td>\n",
              "      <td>...</td>\n",
              "      <td>...</td>\n",
              "      <td>...</td>\n",
              "      <td>...</td>\n",
              "      <td>...</td>\n",
              "      <td>...</td>\n",
              "      <td>...</td>\n",
              "      <td>...</td>\n",
              "      <td>...</td>\n",
              "      <td>...</td>\n",
              "      <td>...</td>\n",
              "      <td>...</td>\n",
              "      <td>...</td>\n",
              "      <td>...</td>\n",
              "      <td>...</td>\n",
              "      <td>...</td>\n",
              "      <td>...</td>\n",
              "      <td>...</td>\n",
              "      <td>...</td>\n",
              "      <td>...</td>\n",
              "      <td>...</td>\n",
              "      <td>...</td>\n",
              "      <td>...</td>\n",
              "      <td>...</td>\n",
              "      <td>...</td>\n",
              "      <td>...</td>\n",
              "      <td>...</td>\n",
              "      <td>...</td>\n",
              "      <td>...</td>\n",
              "      <td>...</td>\n",
              "      <td>...</td>\n",
              "      <td>...</td>\n",
              "    </tr>\n",
              "    <tr>\n",
              "      <th>351319</th>\n",
              "      <td>23.0</td>\n",
              "      <td>84823.0</td>\n",
              "      <td>6.0</td>\n",
              "      <td>1966.0</td>\n",
              "      <td>1.0</td>\n",
              "      <td>1.0</td>\n",
              "      <td>1.0</td>\n",
              "      <td>1.0</td>\n",
              "      <td>1.0</td>\n",
              "      <td>1.0</td>\n",
              "      <td>0.047279</td>\n",
              "      <td>0.489827</td>\n",
              "      <td>0.0</td>\n",
              "      <td>0.0</td>\n",
              "      <td>0.0</td>\n",
              "      <td>33.33</td>\n",
              "      <td>0.0</td>\n",
              "      <td>0.0</td>\n",
              "      <td>0.0</td>\n",
              "      <td>1.02</td>\n",
              "      <td>0.0</td>\n",
              "      <td>0.0</td>\n",
              "      <td>0.0</td>\n",
              "      <td>0.0</td>\n",
              "      <td>0.0</td>\n",
              "      <td>6568.683782</td>\n",
              "      <td>0.000000</td>\n",
              "      <td>86400.0</td>\n",
              "      <td>86400.0</td>\n",
              "      <td>86400.0</td>\n",
              "      <td>1.106426</td>\n",
              "      <td>6568.263181</td>\n",
              "      <td>6564.643840</td>\n",
              "      <td>86400.0</td>\n",
              "      <td>6775.523950</td>\n",
              "      <td>6776.837340</td>\n",
              "      <td>Sleep</td>\n",
              "    </tr>\n",
              "    <tr>\n",
              "      <th>351320</th>\n",
              "      <td>23.0</td>\n",
              "      <td>84832.0</td>\n",
              "      <td>6.0</td>\n",
              "      <td>1973.0</td>\n",
              "      <td>9.0</td>\n",
              "      <td>1.0</td>\n",
              "      <td>1.0</td>\n",
              "      <td>5.0</td>\n",
              "      <td>5.0</td>\n",
              "      <td>1.0</td>\n",
              "      <td>0.353359</td>\n",
              "      <td>0.487582</td>\n",
              "      <td>0.0</td>\n",
              "      <td>0.0</td>\n",
              "      <td>0.0</td>\n",
              "      <td>32.32</td>\n",
              "      <td>0.0</td>\n",
              "      <td>0.0</td>\n",
              "      <td>0.0</td>\n",
              "      <td>2.03</td>\n",
              "      <td>0.0</td>\n",
              "      <td>0.0</td>\n",
              "      <td>0.0</td>\n",
              "      <td>0.0</td>\n",
              "      <td>0.0</td>\n",
              "      <td>6577.739691</td>\n",
              "      <td>9.055909</td>\n",
              "      <td>86400.0</td>\n",
              "      <td>86400.0</td>\n",
              "      <td>86400.0</td>\n",
              "      <td>0.000000</td>\n",
              "      <td>6577.319090</td>\n",
              "      <td>6573.699749</td>\n",
              "      <td>86400.0</td>\n",
              "      <td>6784.579859</td>\n",
              "      <td>6785.893249</td>\n",
              "      <td>Other_Activity</td>\n",
              "    </tr>\n",
              "    <tr>\n",
              "      <th>351321</th>\n",
              "      <td>23.0</td>\n",
              "      <td>84832.0</td>\n",
              "      <td>6.0</td>\n",
              "      <td>1972.0</td>\n",
              "      <td>0.0</td>\n",
              "      <td>1.0</td>\n",
              "      <td>1.0</td>\n",
              "      <td>1.0</td>\n",
              "      <td>1.0</td>\n",
              "      <td>1.0</td>\n",
              "      <td>0.353359</td>\n",
              "      <td>0.489858</td>\n",
              "      <td>0.0</td>\n",
              "      <td>0.0</td>\n",
              "      <td>0.0</td>\n",
              "      <td>32.30</td>\n",
              "      <td>0.0</td>\n",
              "      <td>0.0</td>\n",
              "      <td>0.0</td>\n",
              "      <td>2.05</td>\n",
              "      <td>0.0</td>\n",
              "      <td>0.0</td>\n",
              "      <td>0.0</td>\n",
              "      <td>0.0</td>\n",
              "      <td>0.0</td>\n",
              "      <td>6577.799570</td>\n",
              "      <td>0.000000</td>\n",
              "      <td>86400.0</td>\n",
              "      <td>86400.0</td>\n",
              "      <td>86400.0</td>\n",
              "      <td>0.059879</td>\n",
              "      <td>6577.378969</td>\n",
              "      <td>6573.759628</td>\n",
              "      <td>86400.0</td>\n",
              "      <td>6784.639738</td>\n",
              "      <td>6785.953128</td>\n",
              "      <td>Sleep</td>\n",
              "    </tr>\n",
              "    <tr>\n",
              "      <th>351322</th>\n",
              "      <td>23.0</td>\n",
              "      <td>84834.0</td>\n",
              "      <td>6.0</td>\n",
              "      <td>1973.0</td>\n",
              "      <td>2.0</td>\n",
              "      <td>1.0</td>\n",
              "      <td>1.0</td>\n",
              "      <td>1.0</td>\n",
              "      <td>1.0</td>\n",
              "      <td>1.0</td>\n",
              "      <td>0.353359</td>\n",
              "      <td>0.489103</td>\n",
              "      <td>0.0</td>\n",
              "      <td>0.0</td>\n",
              "      <td>0.0</td>\n",
              "      <td>32.28</td>\n",
              "      <td>0.0</td>\n",
              "      <td>0.0</td>\n",
              "      <td>0.0</td>\n",
              "      <td>2.07</td>\n",
              "      <td>0.0</td>\n",
              "      <td>0.0</td>\n",
              "      <td>0.0</td>\n",
              "      <td>0.0</td>\n",
              "      <td>0.0</td>\n",
              "      <td>6578.923727</td>\n",
              "      <td>0.000000</td>\n",
              "      <td>86400.0</td>\n",
              "      <td>86400.0</td>\n",
              "      <td>86400.0</td>\n",
              "      <td>1.184036</td>\n",
              "      <td>6578.503126</td>\n",
              "      <td>6574.883785</td>\n",
              "      <td>86400.0</td>\n",
              "      <td>6785.763895</td>\n",
              "      <td>6787.077285</td>\n",
              "      <td>Sleep</td>\n",
              "    </tr>\n",
              "    <tr>\n",
              "      <th>351323</th>\n",
              "      <td>23.0</td>\n",
              "      <td>84854.0</td>\n",
              "      <td>6.0</td>\n",
              "      <td>1992.0</td>\n",
              "      <td>20.0</td>\n",
              "      <td>1.0</td>\n",
              "      <td>1.0</td>\n",
              "      <td>5.0</td>\n",
              "      <td>5.0</td>\n",
              "      <td>1.0</td>\n",
              "      <td>0.468996</td>\n",
              "      <td>0.484438</td>\n",
              "      <td>0.0</td>\n",
              "      <td>0.0</td>\n",
              "      <td>0.0</td>\n",
              "      <td>31.26</td>\n",
              "      <td>0.0</td>\n",
              "      <td>0.0</td>\n",
              "      <td>0.0</td>\n",
              "      <td>3.09</td>\n",
              "      <td>0.0</td>\n",
              "      <td>0.0</td>\n",
              "      <td>0.0</td>\n",
              "      <td>0.0</td>\n",
              "      <td>0.0</td>\n",
              "      <td>6599.394960</td>\n",
              "      <td>20.471233</td>\n",
              "      <td>86400.0</td>\n",
              "      <td>86400.0</td>\n",
              "      <td>86400.0</td>\n",
              "      <td>0.000000</td>\n",
              "      <td>6598.974359</td>\n",
              "      <td>6595.355018</td>\n",
              "      <td>86400.0</td>\n",
              "      <td>6806.235128</td>\n",
              "      <td>6807.548518</td>\n",
              "      <td>Other_Activity</td>\n",
              "    </tr>\n",
              "  </tbody>\n",
              "</table>\n",
              "<p>351324 rows × 37 columns</p>\n",
              "</div>\n",
              "      <button class=\"colab-df-convert\" onclick=\"convertToInteractive('df-b14cfaab-e6ab-4839-b059-2be029587505')\"\n",
              "              title=\"Convert this dataframe to an interactive table.\"\n",
              "              style=\"display:none;\">\n",
              "        \n",
              "  <svg xmlns=\"http://www.w3.org/2000/svg\" height=\"24px\"viewBox=\"0 0 24 24\"\n",
              "       width=\"24px\">\n",
              "    <path d=\"M0 0h24v24H0V0z\" fill=\"none\"/>\n",
              "    <path d=\"M18.56 5.44l.94 2.06.94-2.06 2.06-.94-2.06-.94-.94-2.06-.94 2.06-2.06.94zm-11 1L8.5 8.5l.94-2.06 2.06-.94-2.06-.94L8.5 2.5l-.94 2.06-2.06.94zm10 10l.94 2.06.94-2.06 2.06-.94-2.06-.94-.94-2.06-.94 2.06-2.06.94z\"/><path d=\"M17.41 7.96l-1.37-1.37c-.4-.4-.92-.59-1.43-.59-.52 0-1.04.2-1.43.59L10.3 9.45l-7.72 7.72c-.78.78-.78 2.05 0 2.83L4 21.41c.39.39.9.59 1.41.59.51 0 1.02-.2 1.41-.59l7.78-7.78 2.81-2.81c.8-.78.8-2.07 0-2.86zM5.41 20L4 18.59l7.72-7.72 1.47 1.35L5.41 20z\"/>\n",
              "  </svg>\n",
              "      </button>\n",
              "      \n",
              "  <style>\n",
              "    .colab-df-container {\n",
              "      display:flex;\n",
              "      flex-wrap:wrap;\n",
              "      gap: 12px;\n",
              "    }\n",
              "\n",
              "    .colab-df-convert {\n",
              "      background-color: #E8F0FE;\n",
              "      border: none;\n",
              "      border-radius: 50%;\n",
              "      cursor: pointer;\n",
              "      display: none;\n",
              "      fill: #1967D2;\n",
              "      height: 32px;\n",
              "      padding: 0 0 0 0;\n",
              "      width: 32px;\n",
              "    }\n",
              "\n",
              "    .colab-df-convert:hover {\n",
              "      background-color: #E2EBFA;\n",
              "      box-shadow: 0px 1px 2px rgba(60, 64, 67, 0.3), 0px 1px 3px 1px rgba(60, 64, 67, 0.15);\n",
              "      fill: #174EA6;\n",
              "    }\n",
              "\n",
              "    [theme=dark] .colab-df-convert {\n",
              "      background-color: #3B4455;\n",
              "      fill: #D2E3FC;\n",
              "    }\n",
              "\n",
              "    [theme=dark] .colab-df-convert:hover {\n",
              "      background-color: #434B5C;\n",
              "      box-shadow: 0px 1px 3px 1px rgba(0, 0, 0, 0.15);\n",
              "      filter: drop-shadow(0px 1px 2px rgba(0, 0, 0, 0.3));\n",
              "      fill: #FFFFFF;\n",
              "    }\n",
              "  </style>\n",
              "\n",
              "      <script>\n",
              "        const buttonEl =\n",
              "          document.querySelector('#df-b14cfaab-e6ab-4839-b059-2be029587505 button.colab-df-convert');\n",
              "        buttonEl.style.display =\n",
              "          google.colab.kernel.accessAllowed ? 'block' : 'none';\n",
              "\n",
              "        async function convertToInteractive(key) {\n",
              "          const element = document.querySelector('#df-b14cfaab-e6ab-4839-b059-2be029587505');\n",
              "          const dataTable =\n",
              "            await google.colab.kernel.invokeFunction('convertToInteractive',\n",
              "                                                     [key], {});\n",
              "          if (!dataTable) return;\n",
              "\n",
              "          const docLinkHtml = 'Like what you see? Visit the ' +\n",
              "            '<a target=\"_blank\" href=https://colab.research.google.com/notebooks/data_table.ipynb>data table notebook</a>'\n",
              "            + ' to learn more about interactive tables.';\n",
              "          element.innerHTML = '';\n",
              "          dataTable['output_type'] = 'display_data';\n",
              "          await google.colab.output.renderOutput(dataTable, element);\n",
              "          const docLink = document.createElement('div');\n",
              "          docLink.innerHTML = docLinkHtml;\n",
              "          element.appendChild(docLink);\n",
              "        }\n",
              "      </script>\n",
              "    </div>\n",
              "  </div>\n",
              "  "
            ],
            "text/plain": [
              "        lastSensorEventHours  ...        activity\n",
              "0                        0.0  ...           Sleep\n",
              "1                        0.0  ...           Sleep\n",
              "2                        0.0  ...           Sleep\n",
              "3                        0.0  ...           Sleep\n",
              "4                        0.0  ...           Sleep\n",
              "...                      ...  ...             ...\n",
              "351319                  23.0  ...           Sleep\n",
              "351320                  23.0  ...  Other_Activity\n",
              "351321                  23.0  ...           Sleep\n",
              "351322                  23.0  ...           Sleep\n",
              "351323                  23.0  ...  Other_Activity\n",
              "\n",
              "[351324 rows x 37 columns]"
            ]
          },
          "metadata": {},
          "execution_count": 3
        }
      ]
    },
    {
      "cell_type": "code",
      "source": [
        "data.dtypes"
      ],
      "metadata": {
        "colab": {
          "base_uri": "https://localhost:8080/"
        },
        "id": "hm_Xeo1lcL5h",
        "outputId": "02d9db5f-8d23-4695-d0a8-3e9d27157ea8"
      },
      "execution_count": null,
      "outputs": [
        {
          "output_type": "execute_result",
          "data": {
            "text/plain": [
              "lastSensorEventHours        float64\n",
              "lastSensorEventSeconds      float64\n",
              "lastSensorDayOfWeek         float64\n",
              "windowDuration              float64\n",
              "timeSinceLastSensorEvent    float64\n",
              "prevDominantSensor1         float64\n",
              "prevDominantSensor2         float64\n",
              "lastSensorID                float64\n",
              "lastSensorLocation          float64\n",
              "lastMotionLocation          float64\n",
              "complexity                  float64\n",
              "activityChange              float64\n",
              "areaTransitions             float64\n",
              "numDistinctSensors          float64\n",
              "sensorCount-Bathroom        float64\n",
              "sensorCount-Bedroom         float64\n",
              "sensorCount-Chair           float64\n",
              "sensorCount-DiningRoom      float64\n",
              "sensorCount-Hall            float64\n",
              "sensorCount-Ignore          float64\n",
              "sensorCount-Kitchen         float64\n",
              "sensorCount-LivingRoom      float64\n",
              "sensorCount-Office          float64\n",
              "sensorCount-OutsideDoor     float64\n",
              "sensorCount-WorkArea        float64\n",
              "sensorElTime-Bathroom       float64\n",
              "sensorElTime-Bedroom        float64\n",
              "sensorElTime-Chair          float64\n",
              "sensorElTime-DiningRoom     float64\n",
              "sensorElTime-Hall           float64\n",
              "sensorElTime-Ignore         float64\n",
              "sensorElTime-Kitchen        float64\n",
              "sensorElTime-LivingRoom     float64\n",
              "sensorElTime-Office         float64\n",
              "sensorElTime-OutsideDoor    float64\n",
              "sensorElTime-WorkArea       float64\n",
              "activity                     object\n",
              "dtype: object"
            ]
          },
          "metadata": {},
          "execution_count": 4
        }
      ]
    },
    {
      "cell_type": "code",
      "source": [
        "data_in = data.iloc[:,3:36].values\n",
        "data_out = data.iloc[:,36].values"
      ],
      "metadata": {
        "id": "KiD17jXjcO41"
      },
      "execution_count": null,
      "outputs": []
    },
    {
      "cell_type": "code",
      "source": [
        "data_out"
      ],
      "metadata": {
        "colab": {
          "base_uri": "https://localhost:8080/"
        },
        "id": "hYVznigor8_O",
        "outputId": "64e4dc76-fd94-4381-8cdb-6ea8e0950817"
      },
      "execution_count": null,
      "outputs": [
        {
          "output_type": "execute_result",
          "data": {
            "text/plain": [
              "array(['Sleep', 'Sleep', 'Sleep', ..., 'Sleep', 'Sleep', 'Other_Activity'],\n",
              "      dtype=object)"
            ]
          },
          "metadata": {},
          "execution_count": 6
        }
      ]
    },
    {
      "cell_type": "code",
      "source": [
        "from pandas import Series\n",
        "from sklearn.preprocessing import MinMaxScaler\n",
        "def scale(data):\n",
        "  # define contrived series\n",
        "  #series = Series(data)\n",
        "  # prepare data for normalization\n",
        "  #values = data.values\n",
        "  values = data.reshape((len(data), 1))\n",
        "  # train the normalization\n",
        "  scaler = MinMaxScaler(feature_range=(0, 1))\n",
        "  scaler = scaler.fit(values)\n",
        "  # normalize the dataset and print\n",
        "  normalized = scaler.transform(values)\n",
        "  return normalized"
      ],
      "metadata": {
        "id": "0Kn76VU5cQec"
      },
      "execution_count": null,
      "outputs": []
    },
    {
      "cell_type": "code",
      "source": [
        "from numpy import array\n",
        "from numpy import argmax\n",
        "from sklearn.preprocessing import LabelEncoder\n",
        "from sklearn.preprocessing import OneHotEncoder\n",
        "def encod(data):\n",
        "  values = array(data)\n",
        "  # integer encode\n",
        "  label_encoder = LabelEncoder()\n",
        "  integer_encoded = label_encoder.fit_transform(values)\n",
        "  # binary encode\n",
        "  onehot_encoder = OneHotEncoder(sparse=False)\n",
        "  integer_encoded = integer_encoded.reshape(len(integer_encoded), 1)\n",
        "  onehot_encoded = onehot_encoder.fit_transform(integer_encoded)\n",
        "  return onehot_encoded"
      ],
      "metadata": {
        "id": "EyFrkCNScT6K"
      },
      "execution_count": null,
      "outputs": []
    },
    {
      "cell_type": "code",
      "source": [
        "out = encod(data_out)"
      ],
      "metadata": {
        "id": "09Q1CUZAcVpM"
      },
      "execution_count": null,
      "outputs": []
    },
    {
      "cell_type": "code",
      "source": [
        "for col in range(0,33):\n",
        "  scaler = scale(data_in[:,col])\n",
        "  #stan = standard(scaler.flatten())\n",
        "  data_in[:,col:col+1] = scaler"
      ],
      "metadata": {
        "id": "C8XT2bbQcZMm"
      },
      "execution_count": null,
      "outputs": []
    },
    {
      "cell_type": "code",
      "source": [
        "data_in.shape"
      ],
      "metadata": {
        "colab": {
          "base_uri": "https://localhost:8080/"
        },
        "id": "syOmes_6qGuj",
        "outputId": "70c9aa4a-7af5-4c11-86ad-6219ff7519d8"
      },
      "execution_count": null,
      "outputs": [
        {
          "output_type": "execute_result",
          "data": {
            "text/plain": [
              "(351324, 33)"
            ]
          },
          "metadata": {},
          "execution_count": 11
        }
      ]
    },
    {
      "cell_type": "code",
      "source": [
        "X = []\n",
        "y = []"
      ],
      "metadata": {
        "id": "sp0fs58XcW-W"
      },
      "execution_count": null,
      "outputs": []
    },
    {
      "cell_type": "code",
      "source": [
        "for row in range(50,len(data_in[:,0])):\n",
        "  X.append(data_in[row-50: row,:])\n",
        "  y.append(out[row])"
      ],
      "metadata": {
        "id": "ZNgY3_0XcbIl"
      },
      "execution_count": null,
      "outputs": []
    },
    {
      "cell_type": "code",
      "source": [
        "len(y)"
      ],
      "metadata": {
        "colab": {
          "base_uri": "https://localhost:8080/"
        },
        "id": "RJ5yufATu3mt",
        "outputId": "f034fa9d-830f-4911-bc68-6f2861d82a77"
      },
      "execution_count": null,
      "outputs": [
        {
          "output_type": "execute_result",
          "data": {
            "text/plain": [
              "351274"
            ]
          },
          "metadata": {},
          "execution_count": 14
        }
      ]
    },
    {
      "cell_type": "code",
      "source": [
        "from sklearn.model_selection import train_test_split\n",
        "x_train, x_test, y_train, y_test = train_test_split(X, y, test_size=0.2, random_state=0)"
      ],
      "metadata": {
        "id": "o6uIyWs3clIz"
      },
      "execution_count": null,
      "outputs": []
    },
    {
      "cell_type": "code",
      "source": [
        "type(x_train)"
      ],
      "metadata": {
        "colab": {
          "base_uri": "https://localhost:8080/"
        },
        "id": "Lzei9SnzvIAu",
        "outputId": "8b1ad570-7c2f-4a79-b8f6-76207b8f080d"
      },
      "execution_count": null,
      "outputs": [
        {
          "output_type": "execute_result",
          "data": {
            "text/plain": [
              "list"
            ]
          },
          "metadata": {},
          "execution_count": 16
        }
      ]
    },
    {
      "cell_type": "code",
      "source": [
        "x_train, y_train = np.array(x_train), np.array(y_train)"
      ],
      "metadata": {
        "id": "Lv6c_agLcmso"
      },
      "execution_count": null,
      "outputs": []
    },
    {
      "cell_type": "code",
      "source": [
        "type(y_train)"
      ],
      "metadata": {
        "colab": {
          "base_uri": "https://localhost:8080/"
        },
        "id": "jEVR8HWQiIr0",
        "outputId": "5eb9f09d-9dab-4697-ce35-1d733c3238d4"
      },
      "execution_count": null,
      "outputs": [
        {
          "output_type": "execute_result",
          "data": {
            "text/plain": [
              "numpy.ndarray"
            ]
          },
          "metadata": {},
          "execution_count": 18
        }
      ]
    },
    {
      "cell_type": "code",
      "source": [
        "x_train.shape"
      ],
      "metadata": {
        "colab": {
          "base_uri": "https://localhost:8080/"
        },
        "id": "PR_zBlYymMst",
        "outputId": "8dae6998-f7e9-4b16-90de-ea45a92ac137"
      },
      "execution_count": null,
      "outputs": [
        {
          "output_type": "execute_result",
          "data": {
            "text/plain": [
              "(281019, 50, 33)"
            ]
          },
          "metadata": {},
          "execution_count": 19
        }
      ]
    },
    {
      "cell_type": "code",
      "source": [
        "y_train.shape"
      ],
      "metadata": {
        "colab": {
          "base_uri": "https://localhost:8080/"
        },
        "id": "EWgYFG_qvqhB",
        "outputId": "ba35c864-7b35-4344-dccb-6f23e9eaca8a"
      },
      "execution_count": null,
      "outputs": [
        {
          "output_type": "execute_result",
          "data": {
            "text/plain": [
              "(281019, 35)"
            ]
          },
          "metadata": {},
          "execution_count": 20
        }
      ]
    },
    {
      "cell_type": "code",
      "source": [
        "x_train = np.reshape(x_train,(x_train.shape[0], x_train.shape[1], 33))"
      ],
      "metadata": {
        "id": "QaIcmLV8yccP"
      },
      "execution_count": null,
      "outputs": []
    },
    {
      "cell_type": "code",
      "source": [
        "#y_train = np.reshape(y_train,(y_train.shape[0], 35))"
      ],
      "metadata": {
        "id": "7_KZJvER7rIb"
      },
      "execution_count": null,
      "outputs": []
    },
    {
      "cell_type": "code",
      "source": [
        "from keras.models import Sequential\n",
        "from keras.layers import LSTM\n",
        "from keras.layers import Dense\n",
        "from keras.layers import Dropout\n",
        "from tensorflow import keras\n",
        "from tensorflow.keras import layers"
      ],
      "metadata": {
        "id": "2n-kE0uacpcv"
      },
      "execution_count": null,
      "outputs": []
    },
    {
      "cell_type": "code",
      "source": [
        ""
      ],
      "metadata": {
        "id": "0IoKdg2_crk-"
      },
      "execution_count": null,
      "outputs": []
    },
    {
      "cell_type": "code",
      "source": [
        "model = Sequential()\n",
        "#First layer\n",
        "model.add(LSTM(units=50,return_sequences=True, input_shape=( x_train.shape[1],33) ))\n",
        "\n",
        "#LSTM Second layer\n",
        "model.add(LSTM(units=50, return_sequences=True))\n",
        "\n",
        "#LSTM Third layer\n",
        "model.add(LSTM(units=50))\n",
        "\n",
        "#model.add(layers.Activation('softmax'))\n",
        "#Dense layer\n",
        "model.add(Dense(units=35, activation='softmax'))\n"
      ],
      "metadata": {
        "id": "FwWK8RwVeXr4"
      },
      "execution_count": null,
      "outputs": []
    },
    {
      "cell_type": "code",
      "source": [
        "#compile\n",
        "model.compile(optimizer='adam', loss='categorical_crossentropy', metrics=['accuracy'])"
      ],
      "metadata": {
        "id": "v7PH1rpmcvIP"
      },
      "execution_count": null,
      "outputs": []
    },
    {
      "cell_type": "code",
      "source": [
        "#fit\n",
        "model.fit(x_train, y_train, epochs=20, batch_size=128, validation_split=0.2)"
      ],
      "metadata": {
        "colab": {
          "base_uri": "https://localhost:8080/"
        },
        "id": "snMzmMtsfa24",
        "outputId": "a5402aca-cf3a-4061-e4a8-69d8b084d6cb"
      },
      "execution_count": null,
      "outputs": [
        {
          "output_type": "stream",
          "name": "stdout",
          "text": [
            "Epoch 1/20\n",
            "1757/1757 [==============================] - 31s 13ms/step - loss: 1.2530 - accuracy: 0.6281 - val_loss: 1.0012 - val_accuracy: 0.6793\n",
            "Epoch 2/20\n",
            "1757/1757 [==============================] - 21s 12ms/step - loss: 0.9567 - accuracy: 0.6894 - val_loss: 0.8986 - val_accuracy: 0.7025\n",
            "Epoch 3/20\n",
            "1757/1757 [==============================] - 21s 12ms/step - loss: 0.8730 - accuracy: 0.7091 - val_loss: 0.8746 - val_accuracy: 0.7088\n",
            "Epoch 4/20\n",
            "1757/1757 [==============================] - 23s 13ms/step - loss: 0.8139 - accuracy: 0.7237 - val_loss: 0.8050 - val_accuracy: 0.7278\n",
            "Epoch 5/20\n",
            "1757/1757 [==============================] - 21s 12ms/step - loss: 0.7606 - accuracy: 0.7382 - val_loss: 0.7374 - val_accuracy: 0.7447\n",
            "Epoch 6/20\n",
            "1757/1757 [==============================] - 21s 12ms/step - loss: 0.7212 - accuracy: 0.7496 - val_loss: 0.7159 - val_accuracy: 0.7524\n",
            "Epoch 7/20\n",
            "1757/1757 [==============================] - 22s 12ms/step - loss: 0.6787 - accuracy: 0.7627 - val_loss: 0.6775 - val_accuracy: 0.7645\n",
            "Epoch 8/20\n",
            "1757/1757 [==============================] - 21s 12ms/step - loss: 0.6433 - accuracy: 0.7729 - val_loss: 0.6405 - val_accuracy: 0.7737\n",
            "Epoch 9/20\n",
            "1757/1757 [==============================] - 22s 12ms/step - loss: 0.6084 - accuracy: 0.7847 - val_loss: 0.6001 - val_accuracy: 0.7893\n",
            "Epoch 10/20\n",
            "1757/1757 [==============================] - 21s 12ms/step - loss: 0.5764 - accuracy: 0.7955 - val_loss: 0.5884 - val_accuracy: 0.7944\n",
            "Epoch 11/20\n",
            "1757/1757 [==============================] - 21s 12ms/step - loss: 0.5468 - accuracy: 0.8064 - val_loss: 0.5562 - val_accuracy: 0.8047\n",
            "Epoch 12/20\n",
            "1757/1757 [==============================] - 22s 12ms/step - loss: 0.5175 - accuracy: 0.8176 - val_loss: 0.5175 - val_accuracy: 0.8175\n",
            "Epoch 13/20\n",
            "1757/1757 [==============================] - 22s 12ms/step - loss: 0.4895 - accuracy: 0.8278 - val_loss: 0.5044 - val_accuracy: 0.8217\n",
            "Epoch 14/20\n",
            "1757/1757 [==============================] - 22s 12ms/step - loss: 0.4638 - accuracy: 0.8376 - val_loss: 0.4811 - val_accuracy: 0.8297\n",
            "Epoch 15/20\n",
            "1757/1757 [==============================] - 21s 12ms/step - loss: 0.4413 - accuracy: 0.8451 - val_loss: 0.4497 - val_accuracy: 0.8441\n",
            "Epoch 16/20\n",
            "1757/1757 [==============================] - 21s 12ms/step - loss: 0.4242 - accuracy: 0.8514 - val_loss: 0.4394 - val_accuracy: 0.8475\n",
            "Epoch 17/20\n",
            "1757/1757 [==============================] - 21s 12ms/step - loss: 0.4022 - accuracy: 0.8593 - val_loss: 0.4305 - val_accuracy: 0.8512\n",
            "Epoch 18/20\n",
            "1757/1757 [==============================] - 21s 12ms/step - loss: 0.3943 - accuracy: 0.8626 - val_loss: 0.4044 - val_accuracy: 0.8600\n",
            "Epoch 19/20\n",
            "1757/1757 [==============================] - 21s 12ms/step - loss: 0.3714 - accuracy: 0.8705 - val_loss: 0.4047 - val_accuracy: 0.8602\n",
            "Epoch 20/20\n",
            "1757/1757 [==============================] - 21s 12ms/step - loss: 0.3635 - accuracy: 0.8739 - val_loss: 0.3926 - val_accuracy: 0.8656\n"
          ]
        },
        {
          "output_type": "execute_result",
          "data": {
            "text/plain": [
              "<keras.callbacks.History at 0x7fabce200cd0>"
            ]
          },
          "metadata": {},
          "execution_count": 26
        }
      ]
    },
    {
      "cell_type": "code",
      "source": [
        "x_test, y_test = np.array(x_test), np.array(y_test)"
      ],
      "metadata": {
        "id": "S9f0gOXbNO-w"
      },
      "execution_count": null,
      "outputs": []
    },
    {
      "cell_type": "code",
      "source": [
        "x_test = np.reshape(x_test,(x_test.shape[0], x_test.shape[1], 33))"
      ],
      "metadata": {
        "id": "dPv8Xd00M9Ne"
      },
      "execution_count": null,
      "outputs": []
    },
    {
      "cell_type": "code",
      "source": [
        "y_test.shape"
      ],
      "metadata": {
        "colab": {
          "base_uri": "https://localhost:8080/"
        },
        "id": "IP3FUaMRNAHO",
        "outputId": "b8a86191-910d-4625-e70e-e50f21d277a1"
      },
      "execution_count": null,
      "outputs": [
        {
          "output_type": "execute_result",
          "data": {
            "text/plain": [
              "(70255, 35)"
            ]
          },
          "metadata": {},
          "execution_count": 29
        }
      ]
    },
    {
      "cell_type": "code",
      "source": [
        "x_test.shape"
      ],
      "metadata": {
        "colab": {
          "base_uri": "https://localhost:8080/"
        },
        "id": "b9E3q_T8ftsJ",
        "outputId": "0f3a81aa-ab92-4362-c24a-7788739f42b9"
      },
      "execution_count": null,
      "outputs": [
        {
          "output_type": "execute_result",
          "data": {
            "text/plain": [
              "(70255, 50, 33)"
            ]
          },
          "metadata": {},
          "execution_count": 30
        }
      ]
    },
    {
      "cell_type": "code",
      "source": [
        "test_loss, test_acc = model.evaluate(x_test, y_test)\n",
        "print('Test Loss: {}'.format(test_loss))\n",
        "print('Test Accuracy: {}'.format(test_acc))"
      ],
      "metadata": {
        "colab": {
          "base_uri": "https://localhost:8080/"
        },
        "id": "ZhmHl-Nzfg_d",
        "outputId": "28090bc9-2013-4895-c0dd-823b5d03b6c4"
      },
      "execution_count": null,
      "outputs": [
        {
          "output_type": "stream",
          "name": "stdout",
          "text": [
            "2196/2196 [==============================] - 12s 5ms/step - loss: 0.3950 - accuracy: 0.8632\n",
            "Test Loss: 0.39504268765449524\n",
            "Test Accuracy: 0.8632410764694214\n"
          ]
        }
      ]
    }
  ]
}